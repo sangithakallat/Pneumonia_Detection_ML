{
 "cells": [
  {
   "cell_type": "code",
   "execution_count": 4,
   "metadata": {
    "id": "ZrJiD5L5wAVS"
   },
   "outputs": [],
   "source": [
    "import os\n",
    "import cv2\n",
    "import keras\n",
    "import numpy as np\n",
    "import pandas as pd\n",
    "import random as rn\n",
    "from PIL import Image\n",
    "from tqdm import tqdm\n",
    "import tensorflow as tf\n",
    "import matplotlib.pyplot as plt\n",
    "from IPython.display import SVG\n",
    "from sklearn.metrics import accuracy_score\n",
    "from sklearn.preprocessing import LabelEncoder\n",
    "from sklearn.model_selection import train_test_split\n",
    "import gc\n",
    "from keras.callbacks import EarlyStopping, ModelCheckpoint\n",
    "\n",
    "from tensorflow.python.keras import backend as K\n",
    "from tensorflow.keras.optimizers import Adam\n",
    "from tensorflow.python.keras.models import Sequential\n",
    "from tensorflow.python.keras.callbacks import ReduceLROnPlateau\n",
    "from tensorflow.python.keras.utils.vis_utils import model_to_dot\n",
    "from tensorflow.keras.applications.vgg19 import VGG19\n",
    "from tensorflow.keras.applications.resnet50 import ResNet50,preprocess_input\n",
    "from tensorflow.keras.applications.inception_v3 import InceptionV3\n",
    "from tensorflow.keras.applications.xception import Xception\n",
    "from tensorflow.keras.applications import DenseNet201\n",
    "\n",
    "from tensorflow.keras import  layers, models\n",
    "\n",
    "\n",
    "\n",
    "from sklearn.model_selection import train_test_split,KFold, cross_val_score, GridSearchCV\n",
    "from tensorflow.keras.preprocessing.image import ImageDataGenerator, load_img, img_to_array, save_img\n",
    "from tensorflow.keras.layers import Dense, Flatten, MaxPooling2D, GlobalAveragePooling2D, BatchNormalization, Dropout, Conv2D, MaxPool2D, Activation\n",
    "from sklearn.utils import shuffle\n",
    "from sklearn import metrics\n",
    "#from sklearn.metrics import plot_confusion_matrix\n",
    "from tensorflow.keras.utils import plot_model"
   ]
  },
  {
   "cell_type": "code",
   "execution_count": 1,
   "metadata": {
    "id": "fShx1s5ewiRl"
   },
   "outputs": [],
   "source": [
    "import numpy as np\n",
    "\n",
    "# Load the saved numpy arrays\n",
    "x = np.load(r\"C:\\Users\\Admin\\Documents\\SEM4\\Project\\Pneumonia_Model\\x_data.npy\")\n",
    "y = np.load(r\"C:\\Users\\Admin\\Documents\\SEM4\\Project\\Pneumonia_Model\\y_data.npy\")\n",
    "\n",
    "# Now you can use x_loaded and y_loaded for further processing\n"
   ]
  },
  {
   "cell_type": "code",
   "execution_count": 2,
   "metadata": {
    "id": "uaxsqeeSwjZO"
   },
   "outputs": [
    {
     "name": "stdout",
     "output_type": "stream",
     "text": [
      "WARNING:tensorflow:From C:\\Users\\Admin\\AppData\\Local\\Programs\\Python\\Python311\\Lib\\site-packages\\keras\\src\\losses.py:2976: The name tf.losses.sparse_softmax_cross_entropy is deprecated. Please use tf.compat.v1.losses.sparse_softmax_cross_entropy instead.\n",
      "\n"
     ]
    }
   ],
   "source": [
    "from sklearn.model_selection import train_test_split\n",
    "from tensorflow.keras.utils import to_categorical\n",
    "# split the data into training and validation sets\n",
    "x_train, x_valid, y_train, y_valid = train_test_split(x, y, test_size = 0.2, random_state = 101, stratify=y)\n",
    "y_train = to_categorical(y_train, num_classes = 2)\n",
    "y_valid = to_categorical(y_valid, num_classes = 2)\n",
    "del x,y #deletes the original x and y"
   ]
  },
  {
   "cell_type": "code",
   "execution_count": 5,
   "metadata": {
    "id": "mdOEXni_wm2R"
   },
   "outputs": [],
   "source": [
    "# config the session\n",
    "import tensorflow as tf\n",
    "\n",
    "# Set the seed for hash based operations in python\n",
    "os.environ['PYTHONHASHSEED'] = '0'\n",
    "\n",
    "# Set the numpy seed\n",
    "np.random.seed(111)\n",
    "\n",
    "# Set the random seed in tensorflow at graph level\n",
    "tf.random.set_seed(111)\n",
    "from random import seed\n",
    "seed(111)"
   ]
  },
  {
   "cell_type": "code",
   "execution_count": 6,
   "metadata": {
    "id": "ngviZrLFwo-z"
   },
   "outputs": [
    {
     "name": "stdout",
     "output_type": "stream",
     "text": [
      "WARNING:tensorflow:From C:\\Users\\Admin\\AppData\\Local\\Programs\\Python\\Python311\\Lib\\site-packages\\keras\\src\\backend.py:1398: The name tf.executing_eagerly_outside_functions is deprecated. Please use tf.compat.v1.executing_eagerly_outside_functions instead.\n",
      "\n",
      "WARNING:tensorflow:From C:\\Users\\Admin\\AppData\\Local\\Programs\\Python\\Python311\\Lib\\site-packages\\keras\\src\\layers\\normalization\\batch_normalization.py:979: The name tf.nn.fused_batch_norm is deprecated. Please use tf.compat.v1.nn.fused_batch_norm instead.\n",
      "\n",
      "Model: \"model_with_skip_connections\"\n",
      "__________________________________________________________________________________________________\n",
      " Layer (type)                Output Shape                 Param #   Connected to                  \n",
      "==================================================================================================\n",
      " input_1 (InputLayer)        [(None, 224, 224, 3)]        0         []                            \n",
      "                                                                                                  \n",
      " block1_conv (Conv2D)        (None, 224, 224, 32)         864       ['input_1[0][0]']             \n",
      "                                                                                                  \n",
      " block1_bn (BatchNormalizat  (None, 224, 224, 32)         128       ['block1_conv[0][0]']         \n",
      " ion)                                                                                             \n",
      "                                                                                                  \n",
      " block1_act (Activation)     (None, 224, 224, 32)         0         ['block1_bn[0][0]']           \n",
      "                                                                                                  \n",
      " block1_pool (MaxPooling2D)  (None, 112, 112, 32)         0         ['block1_act[0][0]']          \n",
      "                                                                                                  \n",
      " block2_conv1_conv (Conv2D)  (None, 112, 112, 32)         9216      ['block1_pool[0][0]']         \n",
      "                                                                                                  \n",
      " block2_conv1_bn (BatchNorm  (None, 112, 112, 32)         128       ['block2_conv1_conv[0][0]']   \n",
      " alization)                                                                                       \n",
      "                                                                                                  \n",
      " block2_conv1_act (Activati  (None, 112, 112, 32)         0         ['block2_conv1_bn[0][0]']     \n",
      " on)                                                                                              \n",
      "                                                                                                  \n",
      " block2_conv2_conv (Conv2D)  (None, 112, 112, 32)         9216      ['block2_conv1_act[0][0]']    \n",
      "                                                                                                  \n",
      " block2_conv2_bn (BatchNorm  (None, 112, 112, 32)         128       ['block2_conv2_conv[0][0]']   \n",
      " alization)                                                                                       \n",
      "                                                                                                  \n",
      " block2_conv2_act (Activati  (None, 112, 112, 32)         0         ['block2_conv2_bn[0][0]']     \n",
      " on)                                                                                              \n",
      "                                                                                                  \n",
      " add (Add)                   (None, 112, 112, 32)         0         ['block2_conv2_act[0][0]',    \n",
      "                                                                     'block1_pool[0][0]']         \n",
      "                                                                                                  \n",
      " activation (Activation)     (None, 112, 112, 32)         0         ['add[0][0]']                 \n",
      "                                                                                                  \n",
      " block3_conv1_conv (Conv2D)  (None, 56, 56, 64)           18432     ['activation[0][0]']          \n",
      "                                                                                                  \n",
      " block3_conv1_bn (BatchNorm  (None, 56, 56, 64)           256       ['block3_conv1_conv[0][0]']   \n",
      " alization)                                                                                       \n",
      "                                                                                                  \n",
      " block3_conv1_act (Activati  (None, 56, 56, 64)           0         ['block3_conv1_bn[0][0]']     \n",
      " on)                                                                                              \n",
      "                                                                                                  \n",
      " block3_conv2_conv (Conv2D)  (None, 56, 56, 64)           36864     ['block3_conv1_act[0][0]']    \n",
      "                                                                                                  \n",
      " block3_conv2_bn (BatchNorm  (None, 56, 56, 64)           256       ['block3_conv2_conv[0][0]']   \n",
      " alization)                                                                                       \n",
      "                                                                                                  \n",
      " conv2d (Conv2D)             (None, 56, 56, 64)           2048      ['activation[0][0]']          \n",
      "                                                                                                  \n",
      " block3_conv2_act (Activati  (None, 56, 56, 64)           0         ['block3_conv2_bn[0][0]']     \n",
      " on)                                                                                              \n",
      "                                                                                                  \n",
      " batch_normalization (Batch  (None, 56, 56, 64)           256       ['conv2d[0][0]']              \n",
      " Normalization)                                                                                   \n",
      "                                                                                                  \n",
      " add_1 (Add)                 (None, 56, 56, 64)           0         ['block3_conv2_act[0][0]',    \n",
      "                                                                     'batch_normalization[0][0]'] \n",
      "                                                                                                  \n",
      " activation_1 (Activation)   (None, 56, 56, 64)           0         ['add_1[0][0]']               \n",
      "                                                                                                  \n",
      " block4_conv1_conv (Conv2D)  (None, 28, 28, 128)          73728     ['activation_1[0][0]']        \n",
      "                                                                                                  \n",
      " block4_conv1_bn (BatchNorm  (None, 28, 28, 128)          512       ['block4_conv1_conv[0][0]']   \n",
      " alization)                                                                                       \n",
      "                                                                                                  \n",
      " block4_conv1_act (Activati  (None, 28, 28, 128)          0         ['block4_conv1_bn[0][0]']     \n",
      " on)                                                                                              \n",
      "                                                                                                  \n",
      " block4_conv2_conv (Conv2D)  (None, 28, 28, 128)          147456    ['block4_conv1_act[0][0]']    \n",
      "                                                                                                  \n",
      " block4_conv2_bn (BatchNorm  (None, 28, 28, 128)          512       ['block4_conv2_conv[0][0]']   \n",
      " alization)                                                                                       \n",
      "                                                                                                  \n",
      " conv2d_1 (Conv2D)           (None, 28, 28, 128)          8192      ['activation_1[0][0]']        \n",
      "                                                                                                  \n",
      " block4_conv2_act (Activati  (None, 28, 28, 128)          0         ['block4_conv2_bn[0][0]']     \n",
      " on)                                                                                              \n",
      "                                                                                                  \n",
      " batch_normalization_1 (Bat  (None, 28, 28, 128)          512       ['conv2d_1[0][0]']            \n",
      " chNormalization)                                                                                 \n",
      "                                                                                                  \n",
      " add_2 (Add)                 (None, 28, 28, 128)          0         ['block4_conv2_act[0][0]',    \n",
      "                                                                     'batch_normalization_1[0][0]'\n",
      "                                                                    ]                             \n",
      "                                                                                                  \n",
      " activation_2 (Activation)   (None, 28, 28, 128)          0         ['add_2[0][0]']               \n",
      "                                                                                                  \n",
      " final_pool (MaxPooling2D)   (None, 10, 10, 128)          0         ['activation_2[0][0]']        \n",
      "                                                                                                  \n",
      " flatten (Flatten)           (None, 12800)                0         ['final_pool[0][0]']          \n",
      "                                                                                                  \n",
      " fc1 (Dense)                 (None, 512)                  6554112   ['flatten[0][0]']             \n",
      "                                                                                                  \n",
      " predictions (Dense)         (None, 2)                    1026      ['fc1[0][0]']                 \n",
      "                                                                                                  \n",
      "==================================================================================================\n",
      "Total params: 6863842 (26.18 MB)\n",
      "Trainable params: 6862498 (26.18 MB)\n",
      "Non-trainable params: 1344 (5.25 KB)\n",
      "__________________________________________________________________________________________________\n"
     ]
    }
   ],
   "source": [
    "from keras import layers, Model, backend\n",
    "\n",
    "channel_axis = -1  # color channels are expected to be the last dimension of the input data\n",
    "\n",
    "def conv_block(input_tensor, filters, kernel_size, strides=(1, 1), name=None):\n",
    "    \"\"\"Convolution Block with BatchNormalization and ReLU activation.\"\"\"\n",
    "    if name is not None:\n",
    "        conv_name = name + '_conv'\n",
    "        bn_name = name + '_bn'\n",
    "        act_name = name + '_act'\n",
    "    else:\n",
    "        conv_name = None\n",
    "        bn_name = None\n",
    "        act_name = None\n",
    "\n",
    "    x = layers.Conv2D(filters, kernel_size,\n",
    "                      strides=strides,\n",
    "                      padding='same',\n",
    "                      use_bias=False,\n",
    "                      name=conv_name)(input_tensor)\n",
    "    x = layers.BatchNormalization(axis=channel_axis, name=bn_name)(x)\n",
    "    x = layers.Activation('relu', name=act_name)(x)\n",
    "\n",
    "    return x\n",
    "\n",
    "def residual_block(input_tensor, filters, kernel_size, strides=(1, 1), adjust_dimensions=False, block_name=None):\n",
    "    \"\"\"A Residual Block with optional dimension adjustment.\"\"\"\n",
    "    # Path to adjust dimensions if needed\n",
    "    shortcut = input_tensor\n",
    "    if adjust_dimensions:\n",
    "        shortcut = layers.Conv2D(filters, (1, 1), strides=strides, padding='same', use_bias=False)(shortcut)\n",
    "        shortcut = layers.BatchNormalization(axis=channel_axis)(shortcut)\n",
    "\n",
    "    # Main path\n",
    "    x = conv_block(input_tensor, filters, kernel_size, strides=strides, name=f'{block_name}_conv1')\n",
    "    x = conv_block(x, filters, kernel_size, strides=(1, 1), name=f'{block_name}_conv2')\n",
    "\n",
    "    # Adding back the shortcut path\n",
    "    x = layers.add([x, shortcut])\n",
    "    x = layers.Activation('relu')(x)\n",
    "\n",
    "    return x\n",
    "\n",
    "def build_model():\n",
    "    img_input = layers.Input(shape=(224, 224, 3))\n",
    "\n",
    "    # Initial Conv Block\n",
    "    x = conv_block(img_input, 32, (3, 3), name='block1')\n",
    "    x = layers.MaxPooling2D((2, 2), strides=(2, 2), padding='same', name='block1_pool')(x)\n",
    "\n",
    "    # First Residual Block\n",
    "    x = residual_block(x, 32, (3, 3), block_name='block2')\n",
    "\n",
    "    # Further blocks can be added in a similar fashion\n",
    "    # Notice we need to adjust dimensions when increasing the number of filters\n",
    "    x = residual_block(x, 64, (3, 3), adjust_dimensions=True, strides=(2, 2), block_name='block3')\n",
    "\n",
    "    # Continue building your model\n",
    "    # For simplicity, adding one more block and then going to dense layers\n",
    "    x = residual_block(x, 128, (3, 3), adjust_dimensions=True, strides=(2, 2), block_name='block4')\n",
    "    x = layers.MaxPooling2D((3, 3), strides=(3, 3), padding='same', name='final_pool')(x)\n",
    "\n",
    "    # Final Dense Layers\n",
    "    x = layers.Flatten(name='flatten')(x)\n",
    "    x = layers.Dense(512, activation='relu', name='fc1')(x)\n",
    "    x = layers.Dense(2, activation='softmax', name='predictions')(x)\n",
    "\n",
    "    model = Model(inputs=img_input, outputs=x, name='model_with_skip_connections')\n",
    "    return model\n",
    "\n",
    "model = build_model()\n",
    "model.summary()\n"
   ]
  },
  {
   "cell_type": "code",
   "execution_count": 7,
   "metadata": {
    "id": "f3HR3RJ_wxOZ"
   },
   "outputs": [
    {
     "name": "stderr",
     "output_type": "stream",
     "text": [
      "WARNING:absl:`lr` is deprecated in Keras optimizer, please use `learning_rate` or use the legacy optimizer, e.g.,tf.keras.optimizers.legacy.Adam.\n"
     ]
    }
   ],
   "source": [
    "LEARN_RATE = 1e-4\n",
    "from tensorflow.keras.optimizers import Adam\n",
    "model.compile(optimizer = Adam(lr = LEARN_RATE), loss = 'categorical_crossentropy',\n",
    "                           metrics = ['categorical_accuracy'])"
   ]
  },
  {
   "cell_type": "code",
   "execution_count": 8,
   "metadata": {
    "id": "_IIelClQw0wL"
   },
   "outputs": [
    {
     "name": "stdout",
     "output_type": "stream",
     "text": [
      "WARNING:tensorflow:`epsilon` argument is deprecated and will be removed, use `min_delta` instead.\n"
     ]
    },
    {
     "name": "stderr",
     "output_type": "stream",
     "text": [
      "WARNING:tensorflow:`epsilon` argument is deprecated and will be removed, use `min_delta` instead.\n"
     ]
    }
   ],
   "source": [
    "from keras.callbacks import ModelCheckpoint, LearningRateScheduler, EarlyStopping, ReduceLROnPlateau\n",
    "weight_path=\"{}.best_only.hdf5\".format('save')\n",
    "\n",
    "checkpoint = ModelCheckpoint(weight_path, monitor='val_loss', verbose=1,\n",
    "                             save_best_only=True, mode='min', save_weights_only = True)\n",
    "\n",
    "reduceLROnPlat = ReduceLROnPlateau(monitor='val_loss', factor=0.8,\n",
    "                              patience=5, verbose=1, mode='auto',\n",
    "                              epsilon=0.0001, cooldown=5, min_lr=0.0001)\n",
    "early = EarlyStopping(monitor=\"val_loss\",\n",
    "                      mode=\"min\",\n",
    "                      patience=40) # probably needs to be more patient, but kaggle time is limited\n",
    "callbacks_list = [checkpoint, early,reduceLROnPlat]"
   ]
  },
  {
   "cell_type": "code",
   "execution_count": 9,
   "metadata": {
    "id": "n1G4RWnaw6d2"
   },
   "outputs": [
    {
     "name": "stdout",
     "output_type": "stream",
     "text": [
      "Epoch 1/100\n",
      "WARNING:tensorflow:From C:\\Users\\Admin\\AppData\\Local\\Programs\\Python\\Python311\\Lib\\site-packages\\keras\\src\\utils\\tf_utils.py:492: The name tf.ragged.RaggedTensorValue is deprecated. Please use tf.compat.v1.ragged.RaggedTensorValue instead.\n",
      "\n"
     ]
    },
    {
     "name": "stderr",
     "output_type": "stream",
     "text": [
      "WARNING:tensorflow:From C:\\Users\\Admin\\AppData\\Local\\Programs\\Python\\Python311\\Lib\\site-packages\\keras\\src\\utils\\tf_utils.py:492: The name tf.ragged.RaggedTensorValue is deprecated. Please use tf.compat.v1.ragged.RaggedTensorValue instead.\n",
      "\n"
     ]
    },
    {
     "name": "stdout",
     "output_type": "stream",
     "text": [
      "WARNING:tensorflow:From C:\\Users\\Admin\\AppData\\Local\\Programs\\Python\\Python311\\Lib\\site-packages\\keras\\src\\engine\\base_layer_utils.py:384: The name tf.executing_eagerly_outside_functions is deprecated. Please use tf.compat.v1.executing_eagerly_outside_functions instead.\n",
      "\n"
     ]
    },
    {
     "name": "stderr",
     "output_type": "stream",
     "text": [
      "WARNING:tensorflow:From C:\\Users\\Admin\\AppData\\Local\\Programs\\Python\\Python311\\Lib\\site-packages\\keras\\src\\engine\\base_layer_utils.py:384: The name tf.executing_eagerly_outside_functions is deprecated. Please use tf.compat.v1.executing_eagerly_outside_functions instead.\n",
      "\n"
     ]
    },
    {
     "name": "stdout",
     "output_type": "stream",
     "text": [
      "450/450 [==============================] - ETA: 0s - loss: 0.9597 - categorical_accuracy: 0.9121\n",
      "Epoch 1: val_loss improved from inf to 0.33541, saving model to save.best_only.hdf5\n",
      "450/450 [==============================] - 1217s 3s/step - loss: 0.9597 - categorical_accuracy: 0.9121 - val_loss: 0.3354 - val_categorical_accuracy: 0.8554 - lr: 0.0010\n",
      "Epoch 2/100\n",
      "450/450 [==============================] - ETA: 0s - loss: 0.1616 - categorical_accuracy: 0.9510\n",
      "Epoch 2: val_loss improved from 0.33541 to 0.12970, saving model to save.best_only.hdf5\n",
      "450/450 [==============================] - 875s 2s/step - loss: 0.1616 - categorical_accuracy: 0.9510 - val_loss: 0.1297 - val_categorical_accuracy: 0.9544 - lr: 0.0010\n",
      "Epoch 3/100\n",
      "450/450 [==============================] - ETA: 0s - loss: 0.1246 - categorical_accuracy: 0.9595\n",
      "Epoch 3: val_loss did not improve from 0.12970\n",
      "450/450 [==============================] - 869s 2s/step - loss: 0.1246 - categorical_accuracy: 0.9595 - val_loss: 0.2900 - val_categorical_accuracy: 0.8871 - lr: 0.0010\n",
      "Epoch 4/100\n",
      "450/450 [==============================] - ETA: 0s - loss: 0.0777 - categorical_accuracy: 0.9739\n",
      "Epoch 4: val_loss did not improve from 0.12970\n",
      "450/450 [==============================] - 892s 2s/step - loss: 0.0777 - categorical_accuracy: 0.9739 - val_loss: 0.2683 - val_categorical_accuracy: 0.9004 - lr: 0.0010\n",
      "Epoch 5/100\n",
      "450/450 [==============================] - ETA: 0s - loss: 0.0744 - categorical_accuracy: 0.9744\n",
      "Epoch 5: val_loss improved from 0.12970 to 0.11878, saving model to save.best_only.hdf5\n",
      "450/450 [==============================] - 788s 2s/step - loss: 0.0744 - categorical_accuracy: 0.9744 - val_loss: 0.1188 - val_categorical_accuracy: 0.9538 - lr: 0.0010\n",
      "Epoch 6/100\n",
      "450/450 [==============================] - ETA: 0s - loss: 0.0593 - categorical_accuracy: 0.9790\n",
      "Epoch 6: val_loss did not improve from 0.11878\n",
      "450/450 [==============================] - 795s 2s/step - loss: 0.0593 - categorical_accuracy: 0.9790 - val_loss: 0.1395 - val_categorical_accuracy: 0.9544 - lr: 0.0010\n",
      "Epoch 7/100\n",
      "450/450 [==============================] - ETA: 0s - loss: 0.0557 - categorical_accuracy: 0.9800\n",
      "Epoch 7: val_loss did not improve from 0.11878\n",
      "450/450 [==============================] - 793s 2s/step - loss: 0.0557 - categorical_accuracy: 0.9800 - val_loss: 0.2205 - val_categorical_accuracy: 0.9255 - lr: 0.0010\n",
      "Epoch 8/100\n",
      "450/450 [==============================] - ETA: 0s - loss: 0.0444 - categorical_accuracy: 0.9841\n",
      "Epoch 8: val_loss did not improve from 0.11878\n",
      "450/450 [==============================] - 806s 2s/step - loss: 0.0444 - categorical_accuracy: 0.9841 - val_loss: 0.1253 - val_categorical_accuracy: 0.9566 - lr: 0.0010\n",
      "Epoch 9/100\n",
      "450/450 [==============================] - ETA: 0s - loss: 0.0411 - categorical_accuracy: 0.9850\n",
      "Epoch 9: val_loss did not improve from 0.11878\n",
      "450/450 [==============================] - 781s 2s/step - loss: 0.0411 - categorical_accuracy: 0.9850 - val_loss: 0.1719 - val_categorical_accuracy: 0.9444 - lr: 0.0010\n",
      "Epoch 10/100\n",
      "450/450 [==============================] - ETA: 0s - loss: 0.0469 - categorical_accuracy: 0.9829\n",
      "Epoch 10: val_loss improved from 0.11878 to 0.11116, saving model to save.best_only.hdf5\n",
      "450/450 [==============================] - 777s 2s/step - loss: 0.0469 - categorical_accuracy: 0.9829 - val_loss: 0.1112 - val_categorical_accuracy: 0.9666 - lr: 0.0010\n",
      "Epoch 11/100\n",
      "450/450 [==============================] - ETA: 0s - loss: 0.0335 - categorical_accuracy: 0.9889\n",
      "Epoch 11: val_loss did not improve from 0.11116\n",
      "450/450 [==============================] - 770s 2s/step - loss: 0.0335 - categorical_accuracy: 0.9889 - val_loss: 0.1263 - val_categorical_accuracy: 0.9583 - lr: 0.0010\n",
      "Epoch 12/100\n",
      "450/450 [==============================] - ETA: 0s - loss: 0.0367 - categorical_accuracy: 0.9876\n",
      "Epoch 12: val_loss did not improve from 0.11116\n",
      "450/450 [==============================] - 772s 2s/step - loss: 0.0367 - categorical_accuracy: 0.9876 - val_loss: 0.1547 - val_categorical_accuracy: 0.9583 - lr: 0.0010\n",
      "Epoch 13/100\n",
      "450/450 [==============================] - ETA: 0s - loss: 0.0311 - categorical_accuracy: 0.9893\n",
      "Epoch 13: val_loss did not improve from 0.11116\n",
      "450/450 [==============================] - 770s 2s/step - loss: 0.0311 - categorical_accuracy: 0.9893 - val_loss: 0.2806 - val_categorical_accuracy: 0.9055 - lr: 0.0010\n",
      "Epoch 14/100\n",
      "450/450 [==============================] - ETA: 0s - loss: 0.0367 - categorical_accuracy: 0.9879\n",
      "Epoch 14: val_loss did not improve from 0.11116\n",
      "450/450 [==============================] - 773s 2s/step - loss: 0.0367 - categorical_accuracy: 0.9879 - val_loss: 0.1272 - val_categorical_accuracy: 0.9561 - lr: 0.0010\n",
      "Epoch 15/100\n",
      "450/450 [==============================] - ETA: 0s - loss: 0.0233 - categorical_accuracy: 0.9911\n",
      "Epoch 15: val_loss did not improve from 0.11116\n",
      "\n",
      "Epoch 15: ReduceLROnPlateau reducing learning rate to 0.000800000037997961.\n",
      "450/450 [==============================] - 772s 2s/step - loss: 0.0233 - categorical_accuracy: 0.9911 - val_loss: 0.3605 - val_categorical_accuracy: 0.9043 - lr: 0.0010\n",
      "Epoch 16/100\n",
      "450/450 [==============================] - ETA: 0s - loss: 0.0197 - categorical_accuracy: 0.9928\n",
      "Epoch 16: val_loss improved from 0.11116 to 0.10093, saving model to save.best_only.hdf5\n",
      "450/450 [==============================] - 776s 2s/step - loss: 0.0197 - categorical_accuracy: 0.9928 - val_loss: 0.1009 - val_categorical_accuracy: 0.9755 - lr: 8.0000e-04\n",
      "Epoch 17/100\n",
      "450/450 [==============================] - ETA: 0s - loss: 0.0056 - categorical_accuracy: 0.9982\n",
      "Epoch 17: val_loss did not improve from 0.10093\n",
      "450/450 [==============================] - 812s 2s/step - loss: 0.0056 - categorical_accuracy: 0.9982 - val_loss: 0.1254 - val_categorical_accuracy: 0.9677 - lr: 8.0000e-04\n",
      "Epoch 18/100\n",
      "450/450 [==============================] - ETA: 0s - loss: 0.0017 - categorical_accuracy: 0.9990\n",
      "Epoch 18: val_loss did not improve from 0.10093\n",
      "450/450 [==============================] - 785s 2s/step - loss: 0.0017 - categorical_accuracy: 0.9990 - val_loss: 0.1430 - val_categorical_accuracy: 0.9733 - lr: 8.0000e-04\n",
      "Epoch 19/100\n",
      "450/450 [==============================] - ETA: 0s - loss: 0.0011 - categorical_accuracy: 0.9990\n",
      "Epoch 19: val_loss did not improve from 0.10093\n",
      "450/450 [==============================] - 791s 2s/step - loss: 0.0011 - categorical_accuracy: 0.9990 - val_loss: 0.1707 - val_categorical_accuracy: 0.9700 - lr: 8.0000e-04\n",
      "Epoch 20/100\n",
      "450/450 [==============================] - ETA: 0s - loss: 0.0317 - categorical_accuracy: 0.9887\n",
      "Epoch 20: val_loss did not improve from 0.10093\n",
      "450/450 [==============================] - 779s 2s/step - loss: 0.0317 - categorical_accuracy: 0.9887 - val_loss: 0.1009 - val_categorical_accuracy: 0.9689 - lr: 8.0000e-04\n",
      "Epoch 21/100\n",
      "450/450 [==============================] - ETA: 0s - loss: 0.0125 - categorical_accuracy: 0.9962\n",
      "Epoch 21: val_loss did not improve from 0.10093\n",
      "450/450 [==============================] - 778s 2s/step - loss: 0.0125 - categorical_accuracy: 0.9962 - val_loss: 0.1199 - val_categorical_accuracy: 0.9705 - lr: 8.0000e-04\n",
      "Epoch 22/100\n",
      "450/450 [==============================] - ETA: 0s - loss: 0.0052 - categorical_accuracy: 0.9981\n",
      "Epoch 22: val_loss did not improve from 0.10093\n",
      "450/450 [==============================] - 775s 2s/step - loss: 0.0052 - categorical_accuracy: 0.9981 - val_loss: 0.2417 - val_categorical_accuracy: 0.9483 - lr: 8.0000e-04\n",
      "Epoch 23/100\n",
      "450/450 [==============================] - ETA: 0s - loss: 0.0169 - categorical_accuracy: 0.9943\n",
      "Epoch 23: val_loss did not improve from 0.10093\n",
      "450/450 [==============================] - 785s 2s/step - loss: 0.0169 - categorical_accuracy: 0.9943 - val_loss: 0.2285 - val_categorical_accuracy: 0.9549 - lr: 8.0000e-04\n",
      "Epoch 24/100\n",
      "450/450 [==============================] - ETA: 0s - loss: 0.0075 - categorical_accuracy: 0.9974\n",
      "Epoch 24: val_loss did not improve from 0.10093\n",
      "\n",
      "Epoch 24: ReduceLROnPlateau reducing learning rate to 0.0006400000303983689.\n",
      "450/450 [==============================] - 1059s 2s/step - loss: 0.0075 - categorical_accuracy: 0.9974 - val_loss: 0.1350 - val_categorical_accuracy: 0.9722 - lr: 8.0000e-04\n",
      "Epoch 25/100\n",
      "450/450 [==============================] - ETA: 0s - loss: 0.0096 - categorical_accuracy: 0.9969\n",
      "Epoch 25: val_loss did not improve from 0.10093\n",
      "450/450 [==============================] - 1085s 2s/step - loss: 0.0096 - categorical_accuracy: 0.9969 - val_loss: 0.1676 - val_categorical_accuracy: 0.9689 - lr: 6.4000e-04\n",
      "Epoch 26/100\n",
      "450/450 [==============================] - ETA: 0s - loss: 0.0050 - categorical_accuracy: 0.9982\n",
      "Epoch 26: val_loss did not improve from 0.10093\n",
      "450/450 [==============================] - 1136s 3s/step - loss: 0.0050 - categorical_accuracy: 0.9982 - val_loss: 0.1982 - val_categorical_accuracy: 0.9655 - lr: 6.4000e-04\n",
      "Epoch 27/100\n",
      "450/450 [==============================] - ETA: 0s - loss: 9.0395e-04 - categorical_accuracy: 0.9997\n",
      "Epoch 27: val_loss did not improve from 0.10093\n",
      "450/450 [==============================] - 1319s 3s/step - loss: 9.0395e-04 - categorical_accuracy: 0.9997 - val_loss: 0.1697 - val_categorical_accuracy: 0.9744 - lr: 6.4000e-04\n",
      "Epoch 28/100\n",
      "450/450 [==============================] - ETA: 0s - loss: 4.9399e-04 - categorical_accuracy: 0.9997\n",
      "Epoch 28: val_loss did not improve from 0.10093\n",
      "450/450 [==============================] - 1090s 2s/step - loss: 4.9399e-04 - categorical_accuracy: 0.9997 - val_loss: 0.1691 - val_categorical_accuracy: 0.9750 - lr: 6.4000e-04\n",
      "Epoch 29/100\n",
      "450/450 [==============================] - ETA: 0s - loss: 4.8578e-04 - categorical_accuracy: 1.0000\n",
      "Epoch 29: val_loss did not improve from 0.10093\n",
      "450/450 [==============================] - 948s 2s/step - loss: 4.8578e-04 - categorical_accuracy: 1.0000 - val_loss: 0.1920 - val_categorical_accuracy: 0.9755 - lr: 6.4000e-04\n",
      "Epoch 30/100\n",
      "450/450 [==============================] - ETA: 0s - loss: 3.9136e-04 - categorical_accuracy: 1.0000\n",
      "Epoch 30: val_loss did not improve from 0.10093\n",
      "450/450 [==============================] - 957s 2s/step - loss: 3.9136e-04 - categorical_accuracy: 1.0000 - val_loss: 0.1986 - val_categorical_accuracy: 0.9744 - lr: 6.4000e-04\n",
      "Epoch 31/100\n",
      "450/450 [==============================] - ETA: 0s - loss: 4.0102e-04 - categorical_accuracy: 0.9999\n",
      "Epoch 31: val_loss did not improve from 0.10093\n",
      "450/450 [==============================] - 962s 2s/step - loss: 4.0102e-04 - categorical_accuracy: 0.9999 - val_loss: 0.1937 - val_categorical_accuracy: 0.9744 - lr: 6.4000e-04\n",
      "Epoch 32/100\n",
      "450/450 [==============================] - ETA: 0s - loss: 3.7812e-04 - categorical_accuracy: 1.0000\n",
      "Epoch 32: val_loss did not improve from 0.10093\n",
      "450/450 [==============================] - 964s 2s/step - loss: 3.7812e-04 - categorical_accuracy: 1.0000 - val_loss: 0.2114 - val_categorical_accuracy: 0.9755 - lr: 6.4000e-04\n",
      "Epoch 33/100\n",
      "450/450 [==============================] - ETA: 0s - loss: 4.6913e-04 - categorical_accuracy: 0.9999\n",
      "Epoch 33: val_loss did not improve from 0.10093\n",
      "\n",
      "Epoch 33: ReduceLROnPlateau reducing learning rate to 0.0005120000336319208.\n",
      "450/450 [==============================] - 925s 2s/step - loss: 4.6913e-04 - categorical_accuracy: 0.9999 - val_loss: 0.1931 - val_categorical_accuracy: 0.9761 - lr: 6.4000e-04\n",
      "Epoch 34/100\n",
      "450/450 [==============================] - ETA: 0s - loss: 3.8022e-04 - categorical_accuracy: 1.0000\n",
      "Epoch 34: val_loss did not improve from 0.10093\n",
      "450/450 [==============================] - 851s 2s/step - loss: 3.8022e-04 - categorical_accuracy: 1.0000 - val_loss: 0.2081 - val_categorical_accuracy: 0.9750 - lr: 5.1200e-04\n",
      "Epoch 35/100\n",
      "450/450 [==============================] - ETA: 0s - loss: 3.2869e-04 - categorical_accuracy: 1.0000\n",
      "Epoch 35: val_loss did not improve from 0.10093\n",
      "450/450 [==============================] - 771s 2s/step - loss: 3.2869e-04 - categorical_accuracy: 1.0000 - val_loss: 0.2240 - val_categorical_accuracy: 0.9733 - lr: 5.1200e-04\n",
      "Epoch 36/100\n",
      "450/450 [==============================] - ETA: 0s - loss: 3.1554e-04 - categorical_accuracy: 1.0000\n",
      "Epoch 36: val_loss did not improve from 0.10093\n",
      "450/450 [==============================] - 931s 2s/step - loss: 3.1554e-04 - categorical_accuracy: 1.0000 - val_loss: 0.2246 - val_categorical_accuracy: 0.9739 - lr: 5.1200e-04\n",
      "Epoch 37/100\n",
      "450/450 [==============================] - ETA: 0s - loss: 3.1814e-04 - categorical_accuracy: 1.0000\n",
      "Epoch 37: val_loss did not improve from 0.10093\n",
      "450/450 [==============================] - 1011s 2s/step - loss: 3.1814e-04 - categorical_accuracy: 1.0000 - val_loss: 0.2324 - val_categorical_accuracy: 0.9733 - lr: 5.1200e-04\n",
      "Epoch 38/100\n",
      "450/450 [==============================] - ETA: 0s - loss: 2.9672e-04 - categorical_accuracy: 1.0000\n",
      "Epoch 38: val_loss did not improve from 0.10093\n",
      "450/450 [==============================] - 774s 2s/step - loss: 2.9672e-04 - categorical_accuracy: 1.0000 - val_loss: 0.2523 - val_categorical_accuracy: 0.9739 - lr: 5.1200e-04\n",
      "Epoch 39/100\n",
      "450/450 [==============================] - ETA: 0s - loss: 2.8875e-04 - categorical_accuracy: 1.0000\n",
      "Epoch 39: val_loss did not improve from 0.10093\n",
      "450/450 [==============================] - 772s 2s/step - loss: 2.8875e-04 - categorical_accuracy: 1.0000 - val_loss: 0.2538 - val_categorical_accuracy: 0.9739 - lr: 5.1200e-04\n",
      "Epoch 40/100\n",
      "450/450 [==============================] - ETA: 0s - loss: 1.6287e-04 - categorical_accuracy: 1.0000\n",
      "Epoch 40: val_loss did not improve from 0.10093\n",
      "450/450 [==============================] - 814s 2s/step - loss: 1.6287e-04 - categorical_accuracy: 1.0000 - val_loss: 0.2660 - val_categorical_accuracy: 0.9744 - lr: 5.1200e-04\n",
      "Epoch 41/100\n",
      "450/450 [==============================] - ETA: 0s - loss: 3.1437e-06 - categorical_accuracy: 1.0000\n",
      "Epoch 41: val_loss did not improve from 0.10093\n",
      "450/450 [==============================] - 942s 2s/step - loss: 3.1437e-06 - categorical_accuracy: 1.0000 - val_loss: 0.2541 - val_categorical_accuracy: 0.9761 - lr: 5.1200e-04\n",
      "Epoch 42/100\n",
      "450/450 [==============================] - ETA: 0s - loss: 1.4713e-06 - categorical_accuracy: 1.0000\n",
      "Epoch 42: val_loss did not improve from 0.10093\n",
      "\n",
      "Epoch 42: ReduceLROnPlateau reducing learning rate to 0.00040960004553198815.\n",
      "450/450 [==============================] - 840s 2s/step - loss: 1.4713e-06 - categorical_accuracy: 1.0000 - val_loss: 0.2622 - val_categorical_accuracy: 0.9733 - lr: 5.1200e-04\n",
      "Epoch 43/100\n",
      "450/450 [==============================] - ETA: 0s - loss: 7.4345e-07 - categorical_accuracy: 1.0000\n",
      "Epoch 43: val_loss did not improve from 0.10093\n",
      "450/450 [==============================] - 764s 2s/step - loss: 7.4345e-07 - categorical_accuracy: 1.0000 - val_loss: 0.2643 - val_categorical_accuracy: 0.9733 - lr: 4.0960e-04\n",
      "Epoch 44/100\n",
      "450/450 [==============================] - ETA: 0s - loss: 0.0185 - categorical_accuracy: 0.9965\n",
      "Epoch 44: val_loss did not improve from 0.10093\n",
      "450/450 [==============================] - 770s 2s/step - loss: 0.0185 - categorical_accuracy: 0.9965 - val_loss: 0.2435 - val_categorical_accuracy: 0.9677 - lr: 4.0960e-04\n",
      "Epoch 45/100\n",
      "450/450 [==============================] - ETA: 0s - loss: 0.0059 - categorical_accuracy: 0.9976\n",
      "Epoch 45: val_loss did not improve from 0.10093\n",
      "450/450 [==============================] - 767s 2s/step - loss: 0.0059 - categorical_accuracy: 0.9976 - val_loss: 0.1692 - val_categorical_accuracy: 0.9739 - lr: 4.0960e-04\n",
      "Epoch 46/100\n",
      "450/450 [==============================] - ETA: 0s - loss: 0.0013 - categorical_accuracy: 0.9996\n",
      "Epoch 46: val_loss did not improve from 0.10093\n",
      "450/450 [==============================] - 771s 2s/step - loss: 0.0013 - categorical_accuracy: 0.9996 - val_loss: 0.1788 - val_categorical_accuracy: 0.9761 - lr: 4.0960e-04\n",
      "Epoch 47/100\n",
      "450/450 [==============================] - ETA: 0s - loss: 0.0060 - categorical_accuracy: 0.9976\n",
      "Epoch 47: val_loss did not improve from 0.10093\n",
      "450/450 [==============================] - 767s 2s/step - loss: 0.0060 - categorical_accuracy: 0.9976 - val_loss: 0.2674 - val_categorical_accuracy: 0.9727 - lr: 4.0960e-04\n",
      "Epoch 48/100\n",
      "450/450 [==============================] - ETA: 0s - loss: 0.0045 - categorical_accuracy: 0.9978\n",
      "Epoch 48: val_loss did not improve from 0.10093\n",
      "450/450 [==============================] - 760s 2s/step - loss: 0.0045 - categorical_accuracy: 0.9978 - val_loss: 0.1913 - val_categorical_accuracy: 0.9772 - lr: 4.0960e-04\n",
      "Epoch 49/100\n",
      "450/450 [==============================] - ETA: 0s - loss: 7.6269e-05 - categorical_accuracy: 1.0000\n",
      "Epoch 49: val_loss did not improve from 0.10093\n",
      "450/450 [==============================] - 761s 2s/step - loss: 7.6269e-05 - categorical_accuracy: 1.0000 - val_loss: 0.1911 - val_categorical_accuracy: 0.9772 - lr: 4.0960e-04\n",
      "Epoch 50/100\n",
      "450/450 [==============================] - ETA: 0s - loss: 6.3648e-05 - categorical_accuracy: 1.0000\n",
      "Epoch 50: val_loss did not improve from 0.10093\n",
      "450/450 [==============================] - 801s 2s/step - loss: 6.3648e-05 - categorical_accuracy: 1.0000 - val_loss: 0.1928 - val_categorical_accuracy: 0.9778 - lr: 4.0960e-04\n",
      "Epoch 51/100\n",
      "450/450 [==============================] - ETA: 0s - loss: 6.0660e-05 - categorical_accuracy: 1.0000\n",
      "Epoch 51: val_loss did not improve from 0.10093\n",
      "\n",
      "Epoch 51: ReduceLROnPlateau reducing learning rate to 0.00032768002711236477.\n",
      "450/450 [==============================] - 807s 2s/step - loss: 6.0660e-05 - categorical_accuracy: 1.0000 - val_loss: 0.1925 - val_categorical_accuracy: 0.9778 - lr: 4.0960e-04\n",
      "Epoch 52/100\n",
      "450/450 [==============================] - ETA: 0s - loss: 2.5212e-05 - categorical_accuracy: 1.0000\n",
      "Epoch 52: val_loss did not improve from 0.10093\n",
      "450/450 [==============================] - 1066s 2s/step - loss: 2.5212e-05 - categorical_accuracy: 1.0000 - val_loss: 0.1994 - val_categorical_accuracy: 0.9778 - lr: 3.2768e-04\n",
      "Epoch 53/100\n",
      "450/450 [==============================] - ETA: 0s - loss: 2.1174e-05 - categorical_accuracy: 1.0000\n",
      "Epoch 53: val_loss did not improve from 0.10093\n",
      "450/450 [==============================] - 1045s 2s/step - loss: 2.1174e-05 - categorical_accuracy: 1.0000 - val_loss: 0.2009 - val_categorical_accuracy: 0.9778 - lr: 3.2768e-04\n",
      "Epoch 54/100\n",
      "450/450 [==============================] - ETA: 0s - loss: 2.3322e-05 - categorical_accuracy: 1.0000\n",
      "Epoch 54: val_loss did not improve from 0.10093\n",
      "450/450 [==============================] - 947s 2s/step - loss: 2.3322e-05 - categorical_accuracy: 1.0000 - val_loss: 0.2002 - val_categorical_accuracy: 0.9783 - lr: 3.2768e-04\n",
      "Epoch 55/100\n",
      "450/450 [==============================] - ETA: 0s - loss: 1.7577e-05 - categorical_accuracy: 1.0000\n",
      "Epoch 55: val_loss did not improve from 0.10093\n",
      "450/450 [==============================] - 765s 2s/step - loss: 1.7577e-05 - categorical_accuracy: 1.0000 - val_loss: 0.2041 - val_categorical_accuracy: 0.9783 - lr: 3.2768e-04\n",
      "Epoch 56/100\n",
      "450/450 [==============================] - ETA: 0s - loss: 1.8935e-05 - categorical_accuracy: 1.0000\n",
      "Epoch 56: val_loss did not improve from 0.10093\n",
      "450/450 [==============================] - 820s 2s/step - loss: 1.8935e-05 - categorical_accuracy: 1.0000 - val_loss: 0.2109 - val_categorical_accuracy: 0.9783 - lr: 3.2768e-04\n"
     ]
    }
   ],
   "source": [
    "#@title Default title text\n",
    "history = model.fit(x_train,y_train,batch_size = 16,\n",
    "                    epochs = 100, verbose=1,  validation_split=0.2, callbacks=callbacks_list)"
   ]
  },
  {
   "cell_type": "code",
   "execution_count": 11,
   "metadata": {
    "id": "IZtBvWoWxmrE"
   },
   "outputs": [
    {
     "name": "stdout",
     "output_type": "stream",
     "text": [
      "94/94 [==============================] - 63s 644ms/step - loss: 0.1444 - categorical_accuracy: 0.9831\n",
      "Loss on test set:  0.1444399356842041\n",
      "Accuracy on test set:  0.9830960631370544\n"
     ]
    }
   ],
   "source": [
    "#evaluates the trained model on a validation set and prints the test loss and accuracy.\n",
    "test_loss, test_score = model.evaluate(x_valid, y_valid, batch_size=24)\n",
    "print(\"Loss on test set: \", test_loss)\n",
    "print(\"Accuracy on test set: \", test_score)\n",
    "#2304 seconds 50 epochs\n",
    "#192 ms/step = average ms/step"
   ]
  },
  {
   "cell_type": "code",
   "execution_count": 14,
   "metadata": {},
   "outputs": [
    {
     "name": "stdout",
     "output_type": "stream",
     "text": [
      "71/71 [==============================] - 65s 823ms/step\n"
     ]
    }
   ],
   "source": [
    "pred_y = model.predict(x_valid, callbacks=callbacks_list)"
   ]
  },
  {
   "cell_type": "code",
   "execution_count": 15,
   "metadata": {
    "id": "CMdBcxMsyAd0"
   },
   "outputs": [
    {
     "name": "stdout",
     "output_type": "stream",
     "text": [
      "(2248,)\n",
      "(2248, 2)\n"
     ]
    }
   ],
   "source": [
    "# Original labels\n",
    "#checking the shapes of the original labels (orig_test_labels)\n",
    "#and the predicted labels (pred_y).\n",
    "orig_test_labels = np.argmax(y_valid, axis=-1)\n",
    "\n",
    "print(orig_test_labels.shape)\n",
    "print(pred_y.shape)"
   ]
  },
  {
   "cell_type": "code",
   "execution_count": 16,
   "metadata": {
    "id": "Aul-bRAFyEH3"
   },
   "outputs": [
    {
     "name": "stdout",
     "output_type": "stream",
     "text": [
      "              precision    recall  f1-score   support\n",
      "\n",
      "           0       0.98      0.98      0.98      1124\n",
      "           1       0.98      0.98      0.98      1124\n",
      "\n",
      "    accuracy                           0.98      2248\n",
      "   macro avg       0.98      0.98      0.98      2248\n",
      "weighted avg       0.98      0.98      0.98      2248\n",
      "\n"
     ]
    }
   ],
   "source": [
    "from sklearn.metrics import classification_report\n",
    "print(classification_report(np.argmax(y_valid, axis = 1),np.argmax(pred_y, axis = 1)))"
   ]
  },
  {
   "cell_type": "code",
   "execution_count": 17,
   "metadata": {
    "id": "lLgzlWgKyHDi"
   },
   "outputs": [
    {
     "data": {
      "text/plain": [
       "<Figure size 640x480 with 0 Axes>"
      ]
     },
     "metadata": {},
     "output_type": "display_data"
    },
    {
     "data": {
      "image/png": "[encoded data removed]",
      "text/plain": [
       "<Figure size 1200x800 with 1 Axes>"
      ]
     },
     "metadata": {},
     "output_type": "display_data"
    }
   ],
   "source": [
    "from mlxtend.plotting import plot_confusion_matrix\n",
    "from sklearn.metrics import confusion_matrix\n",
    "# Get the confusion matrix\n",
    "cm  = confusion_matrix(np.argmax(y_valid, axis = 1), np.argmax(pred_y, axis = 1))\n",
    "plt.figure()\n",
    "plot_confusion_matrix(cm,figsize=(12,8), hide_ticks=True,cmap=plt.cm.Blues)\n",
    "plt.xticks(range(2), ['Normal', 'Pneumonia'], fontsize=16)\n",
    "plt.yticks(range(2), ['Normal', 'Pneumonia'], fontsize=16)\n",
    "plt.show()"
   ]
  },
  {
   "cell_type": "code",
   "execution_count": 18,
   "metadata": {
    "id": "YHWUZ0acyJPE"
   },
   "outputs": [
    {
     "name": "stdout",
     "output_type": "stream",
     "text": [
      "              precision    recall  f1-score   support\n",
      "\n",
      "           0       0.98      0.98      0.98      1124\n",
      "           1       0.98      0.98      0.98      1124\n",
      "\n",
      "    accuracy                           0.98      2248\n",
      "   macro avg       0.98      0.98      0.98      2248\n",
      "weighted avg       0.98      0.98      0.98      2248\n",
      "\n",
      "Micro-averaged Precision: 0.9830960854092526\n"
     ]
    }
   ],
   "source": [
    "from sklearn.metrics import classification_report, precision_score\n",
    "\n",
    "# Original labels\n",
    "orig_test_labels = np.argmax(y_valid, axis=-1)\n",
    "\n",
    "# Predicted labels\n",
    "pred_labels = np.argmax(pred_y, axis=-1)\n",
    "\n",
    "# Print classification report\n",
    "print(classification_report(orig_test_labels, pred_labels))\n",
    "\n",
    "# Calculate micro-averaged precision\n",
    "micro_precision = precision_score(orig_test_labels, pred_labels, average='micro')\n",
    "print(f\"Micro-averaged Precision: {micro_precision}\")\n"
   ]
  },
  {
   "cell_type": "code",
   "execution_count": 22,
   "metadata": {
    "id": "c_ntcID3yLgS"
   },
   "outputs": [
    {
     "data": {
      "image/png": "[encoded data removed]",
      "text/plain": [
       "<Figure size 640x480 with 1 Axes>"
      ]
     },
     "metadata": {},
     "output_type": "display_data"
    },
    {
     "data": {
      "text/plain": [
       "<Figure size 640x480 with 0 Axes>"
      ]
     },
     "metadata": {},
     "output_type": "display_data"
    },
    {
     "data": {
      "image/png": "[encoded data removed]",
      "text/plain": [
       "<Figure size 1200x800 with 1 Axes>"
      ]
     },
     "metadata": {},
     "output_type": "display_data"
    }
   ],
   "source": [
    "import numpy as np\n",
    "import matplotlib.pyplot as plt\n",
    "from sklearn.metrics import roc_curve, roc_auc_score, confusion_matrix\n",
    "# 1. Compute ROC curve and AUC for each class\n",
    "fpr, tpr, thresholds = roc_curve(y_valid[:, 1], pred_y[:, 1])\n",
    "roc_auc = roc_auc_score(y_valid, pred_y)\n",
    "\n",
    "# 2. Plot ROC curve\n",
    "plt.figure()\n",
    "plt.plot(fpr, tpr, color='darkorange', lw=2, label='ROC curve (area = %0.2f)' % roc_auc)\n",
    "plt.plot([0, 1], [0, 1], color='navy', lw=2, linestyle='--')\n",
    "plt.xlim([0.0, 1.0])\n",
    "plt.ylim([0.0, 1.05])\n",
    "plt.xlabel('False Positive Rate')\n",
    "plt.ylabel('True Positive Rate')\n",
    "plt.title('Receiver Operating Characteristic (ROC)')\n",
    "plt.legend(loc=\"lower right\")\n",
    "plt.show()\n",
    "\n",
    "# 3. Compute confusion matrix\n",
    "# Convert probabilities to class labels\n",
    "pred_labels = np.argmax(pred_y, axis=-1)\n",
    "\n",
    "# Get the confusion matrix\n",
    "cm = confusion_matrix(np.argmax(y_valid, axis=1), pred_labels)\n",
    "\n",
    "# Plot confusion matrix\n",
    "plt.figure()\n",
    "plot_confusion_matrix(cm, figsize=(12, 8), hide_ticks=True, cmap=plt.cm.Blues)\n",
    "plt.xticks(range(2), ['Normal', 'Pneumonia'], fontsize=16)\n",
    "plt.yticks(range(2), ['Normal', 'Pneumonia'], fontsize=16)\n",
    "plt.title('Confusion Matrix')\n",
    "plt.show()\n"
   ]
  },
  {
   "cell_type": "code",
   "execution_count": 23,
   "metadata": {
    "id": "FaY7fe7OxWMo"
   },
   "outputs": [
    {
     "name": "stderr",
     "output_type": "stream",
     "text": [
      "C:\\Users\\Admin\\AppData\\Local\\Programs\\Python\\Python311\\Lib\\site-packages\\keras\\src\\engine\\training.py:3103: UserWarning: You are saving your model as an HDF5 file via `model.save()`. This file format is considered legacy. We recommend using instead the native Keras format, e.g. `model.save('my_model.keras')`.\n",
      "  saving_api.save_model(\n"
     ]
    }
   ],
   "source": [
    "# Save the entire model (architecture and weights)\n",
    "model.save(r\"C:\\Users\\Admin\\Documents\\SEM4\\Project\\Pneumonia_Model\\pneumonia_skipconnection.h5\")\n"
   ]
  },
  {
   "cell_type": "code",
   "execution_count": null,
   "metadata": {},
   "outputs": [],
   "source": []
  }
 ],
 "metadata": {
  "colab": {
   "provenance": []
  },
  "kernelspec": {
   "display_name": "Python 3 (ipykernel)",
   "language": "python",
   "name": "python3"
  },
  "language_info": {
   "codemirror_mode": {
    "name": "ipython",
    "version": 3
   },
   "file_extension": ".py",
   "mimetype": "text/x-python",
   "name": "python",
   "nbconvert_exporter": "python",
   "pygments_lexer": "ipython3",
   "version": "3.11.4"
  }
 },
 "nbformat": 4,
 "nbformat_minor": 4
}
